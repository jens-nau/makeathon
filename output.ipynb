{
 "cells": [
  {
   "cell_type": "code",
   "execution_count": 1,
   "id": "c2476f21",
   "metadata": {},
   "outputs": [],
   "source": [
    "from jupyter_dash import JupyterDash\n",
    "import dash\n",
    "from dash import dcc\n",
    "from dash import html\n",
    "import cv2\n",
    "import numpy as np\n",
    "import pandas as pd\n",
    "import matplotlib.pyplot as plt\n",
    "from tqdm import notebook\n",
    "import io\n",
    "import os\n",
    "import base64"
   ]
  },
  {
   "cell_type": "code",
   "execution_count": 2,
   "id": "d565f798",
   "metadata": {},
   "outputs": [],
   "source": [
    "from pathlib import Path\n",
    "home = str(Path.home())\n",
    "path = home + '/datasets/MRNet/'\n",
    "train_path = path + 'train/'\n",
    "valid_path = path + 'valid/'"
   ]
  },
  {
   "cell_type": "code",
   "execution_count": 3,
   "id": "c7c3aff5",
   "metadata": {},
   "outputs": [
    {
     "data": {
      "application/vnd.jupyter.widget-view+json": {
       "model_id": "",
       "version_major": 2,
       "version_minor": 0
      },
      "text/plain": [
       "  0%|          | 0/120 [00:00<?, ?it/s]"
      ]
     },
     "metadata": {},
     "output_type": "display_data"
    }
   ],
   "source": [
    "def load_one_stack(case, data_path=train_path, plane='coronal'):\n",
    "    fpath = '{}/{}/{}.npy'.format(data_path, plane, case)\n",
    "    return np.load(fpath)\n",
    "\n",
    "def load_one_att_stack(case, data_path=train_path, plane='coronal'):\n",
    "    fpath = '{}attention/{}/{}.npy'.format(data_path, plane, case)\n",
    "    if os.path.exists(fpath):\n",
    "        att = np.load(fpath)\n",
    "        heatmap = np.mean(att, axis=(1))\n",
    "        return heatmap\n",
    "    else:\n",
    "        None\n",
    "\n",
    "def load_stacks(case, data_path=train_path):\n",
    "    x = {}\n",
    "    planes = ['coronal', 'sagittal', 'axial']\n",
    "    for i, plane in enumerate(planes):\n",
    "        x[plane] = load_one_stack(case, data_path, plane)\n",
    "    return x\n",
    "\n",
    "def load_att_stacks(case, data_path=train_path):\n",
    "    x = {}\n",
    "    planes = ['coronal', 'sagittal', 'axial']\n",
    "    for i, plane in enumerate(planes):\n",
    "        x[plane] = load_one_att_stack(case, data_path, plane)\n",
    "    return x\n",
    "\n",
    "def load_cases(train=False, n=None):\n",
    "    assert (type(n) == int) and (n < 1250)\n",
    "    if train:\n",
    "        case_list = pd.read_csv(path + 'train-acl.csv', names=['case', 'label'], header=None,\n",
    "                               dtype={'case': str, 'label': np.int64})['case'].tolist()        \n",
    "    else:\n",
    "        case_list = pd.read_csv(path + 'valid-acl.csv', names=['case', 'label'], header=None,\n",
    "                               dtype={'case': str, 'label': np.int64})['case'].tolist()        \n",
    "    cases = {}\n",
    "    atts = {}\n",
    "    \n",
    "    if n is not None:\n",
    "        case_list = case_list[:n]\n",
    "        \n",
    "    for case in notebook.tqdm(case_list, leave=False):\n",
    "        x = load_stacks(case, valid_path)\n",
    "        att = load_att_stacks(case, valid_path)\n",
    "        cases[case] = x\n",
    "        if att is None:\n",
    "            atts[case] = np.zeros(x.shape)\n",
    "        else:\n",
    "            atts[case] = att\n",
    "    return cases, atts\n",
    "\n",
    "cases, atts = load_cases(n=120)"
   ]
  },
  {
   "cell_type": "code",
   "execution_count": 4,
   "id": "5e4a0955",
   "metadata": {},
   "outputs": [],
   "source": [
    "case = '1130'\n",
    "attention = True"
   ]
  },
  {
   "cell_type": "code",
   "execution_count": 5,
   "id": "764c138e",
   "metadata": {},
   "outputs": [],
   "source": [
    "slice_nums = {}\n",
    "for case in cases:\n",
    "    slice_nums[case] = {}\n",
    "    for plane in ['coronal', 'sagittal', 'axial']:\n",
    "        slice_nums[case][plane] = cases[case][plane].shape[0]"
   ]
  },
  {
   "cell_type": "code",
   "execution_count": 6,
   "id": "2a16dfb1",
   "metadata": {},
   "outputs": [],
   "source": [
    "app = dash.Dash()\n",
    "\n",
    "app.layout = html.Div(children=[\n",
    "    #html.H1(children='Hello Dash'),\n",
    "\n",
    "    dcc.Slider(\n",
    "        id='coronal',\n",
    "        min=0,\n",
    "        max=slice_nums[case]['coronal'] - 1,\n",
    "        step=1,\n",
    "        value=1,\n",
    "    ),\n",
    "    \n",
    "    dcc.Slider(\n",
    "        id='sagittal',\n",
    "        min=0,\n",
    "        max=slice_nums[case]['sagittal'] - 1,\n",
    "        step=1,\n",
    "        value=1,\n",
    "    ),\n",
    "    \n",
    "    dcc.Slider(\n",
    "        id='axial',\n",
    "        min=0,\n",
    "        max=slice_nums[case]['axial'] - 1,\n",
    "        step=1,\n",
    "        value=1,\n",
    "    ),\n",
    "\n",
    "    html.Img(id='example') # img element\n",
    "])\n",
    "\n",
    "@app.callback(\n",
    "    dash.dependencies.Output('example', 'src'), # src attribute\n",
    "    [dash.dependencies.Input('coronal', 'value')]\n",
    ")\n",
    "def update_figure(input):\n",
    "    #create some matplotlib graph\n",
    "    buf = io.BytesIO() # in-memory files\n",
    "    fig, (ax1, ax2, ax3) = plt.subplots(1, 3, figsize=(15,5))\n",
    "\n",
    "    ax1.imshow(cases[case]['coronal'][input, :, :], 'gray')\n",
    "    if attention:\n",
    "        ax1.imshow(cv2.resize(atts[case]['coronal'][input, :, :], (256, 256), interpolation=cv2.INTER_CUBIC), cmap=plt.cm.viridis, alpha=.5)\n",
    "    ax1.set_title(f'MRI slice {input} on coronal plane')\n",
    "\n",
    "    ax2.imshow(cases[case]['sagittal'][input, :, :], 'gray')\n",
    "    if attention:\n",
    "        ax2.imshow(cv2.resize(atts[case]['sagittal'][input, :, :], (256, 256), interpolation=cv2.INTER_CUBIC), cmap=plt.cm.viridis, alpha=.5)\n",
    "    ax2.set_title(f'MRI slice {input} on sagittal plane')\n",
    "\n",
    "    ax3.imshow(cases[case]['axial'][input, :, :], 'gray')\n",
    "    if attention:\n",
    "        ax3.imshow(cv2.resize(atts[case]['axial'][input, :, :], (256, 256), interpolation=cv2.INTER_CUBIC), cmap=plt.cm.viridis, alpha=.5)\n",
    "    ax3.set_title(f'MRI slice {input} on axial plane')\n",
    "    plt.savefig(buf, format = \"png\") # save to the above file object\n",
    "    plt.close()\n",
    "    data = base64.b64encode(buf.getbuffer()).decode(\"utf8\") # encode to html elements\n",
    "    return \"data:image/png;base64,{}\".format(data)"
   ]
  },
  {
   "cell_type": "code",
   "execution_count": null,
   "id": "a21f3ddd",
   "metadata": {},
   "outputs": [
    {
     "name": "stdout",
     "output_type": "stream",
     "text": [
      "Dash is running on http://127.0.0.1:8050/\n",
      "\n",
      " * Serving Flask app '__main__' (lazy loading)\n",
      " * Environment: production\n",
      "\u001b[31m   WARNING: This is a development server. Do not use it in a production deployment.\u001b[0m\n",
      "\u001b[2m   Use a production WSGI server instead.\u001b[0m\n",
      " * Debug mode: off\n"
     ]
    },
    {
     "name": "stderr",
     "output_type": "stream",
     "text": [
      " * Running on http://127.0.0.1:8050 (Press CTRL+C to quit)\n",
      "127.0.0.1 - - [23/Apr/2022 13:31:37] \"GET / HTTP/1.1\" 200 -\n",
      "127.0.0.1 - - [23/Apr/2022 13:31:37] \"GET /_dash-layout HTTP/1.1\" 200 -\n",
      "127.0.0.1 - - [23/Apr/2022 13:31:37] \"GET /_dash-dependencies HTTP/1.1\" 200 -\n",
      "127.0.0.1 - - [23/Apr/2022 13:31:37] \"\u001b[36mGET /_dash-component-suites/dash/dcc/async-slider.js HTTP/1.1\u001b[0m\" 304 -\n",
      "127.0.0.1 - - [23/Apr/2022 13:31:37] \"POST /_dash-update-component HTTP/1.1\" 200 -\n",
      "127.0.0.1 - - [23/Apr/2022 13:31:40] \"POST /_dash-update-component HTTP/1.1\" 200 -\n",
      "127.0.0.1 - - [23/Apr/2022 13:31:41] \"POST /_dash-update-component HTTP/1.1\" 200 -\n",
      "127.0.0.1 - - [23/Apr/2022 13:31:51] \"POST /_dash-update-component HTTP/1.1\" 200 -\n",
      "127.0.0.1 - - [23/Apr/2022 13:32:17] \"POST /_dash-update-component HTTP/1.1\" 200 -\n",
      "127.0.0.1 - - [23/Apr/2022 13:32:20] \"POST /_dash-update-component HTTP/1.1\" 200 -\n"
     ]
    }
   ],
   "source": [
    "app.run_server()"
   ]
  },
  {
   "cell_type": "code",
   "execution_count": null,
   "id": "53e1e43f",
   "metadata": {},
   "outputs": [],
   "source": []
  }
 ],
 "metadata": {
  "kernelspec": {
   "display_name": "Python 3 (ipykernel)",
   "language": "python",
   "name": "python3"
  },
  "language_info": {
   "codemirror_mode": {
    "name": "ipython",
    "version": 3
   },
   "file_extension": ".py",
   "mimetype": "text/x-python",
   "name": "python",
   "nbconvert_exporter": "python",
   "pygments_lexer": "ipython3",
   "version": "3.7.13"
  }
 },
 "nbformat": 4,
 "nbformat_minor": 5
}
