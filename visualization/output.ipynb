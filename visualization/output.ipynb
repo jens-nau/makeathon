{
 "cells": [
  {
   "cell_type": "code",
   "execution_count": 4,
   "id": "c2476f21",
   "metadata": {},
   "outputs": [],
   "source": [
    "from jupyter_dash import JupyterDash\n",
    "import dash\n",
    "from dash import dcc\n",
    "from dash import html\n",
    "import cv2\n",
    "import numpy as np\n",
    "import pandas as pd\n",
    "import matplotlib.pyplot as plt\n",
    "from tqdm import notebook\n",
    "import io\n",
    "import os\n",
    "import base64"
   ]
  },
  {
   "cell_type": "code",
   "execution_count": 5,
   "id": "420558e2",
   "metadata": {},
   "outputs": [],
   "source": [
    "from pathlib import Path\n",
    "home = str(Path.home())\n",
    "path = home + '/datasets/MRNet/'\n",
    "train_path = path + 'train/'\n",
    "valid_path = path + 'valid/'"
   ]
  },
  {
   "cell_type": "code",
   "execution_count": 6,
   "id": "5d846bde",
   "metadata": {},
   "outputs": [
    {
     "data": {
      "application/vnd.jupyter.widget-view+json": {
       "model_id": "",
       "version_major": 2,
       "version_minor": 0
      },
      "text/plain": [
       "  0%|          | 0/120 [00:00<?, ?it/s]"
      ]
     },
     "metadata": {},
     "output_type": "display_data"
    }
   ],
   "source": [
    "def load_one_stack(case, data_path=train_path, plane='coronal'):\n",
    "    fpath = '{}/{}/{}.npy'.format(data_path, plane, case)\n",
    "    return np.load(fpath)\n",
    "\n",
    "def load_one_att_stack(case, data_path=train_path, plane='coronal'):\n",
    "    fpath = '{}attention/{}/{}.npy'.format(data_path, plane, case)\n",
    "    if os.path.exists(fpath):\n",
    "        att = np.load(fpath)\n",
    "        heatmap = np.mean(att, axis=(1))\n",
    "        return heatmap\n",
    "    else:\n",
    "        None\n",
    "\n",
    "def load_stacks(case, data_path=train_path):\n",
    "    x = {}\n",
    "    planes = ['coronal', 'sagittal', 'axial']\n",
    "    for i, plane in enumerate(planes):\n",
    "        x[plane] = load_one_stack(case, data_path, plane)\n",
    "    return x\n",
    "\n",
    "def load_att_stacks(case, data_path=train_path):\n",
    "    x = {}\n",
    "    planes = ['coronal', 'sagittal', 'axial']\n",
    "    for i, plane in enumerate(planes):\n",
    "        x[plane] = load_one_att_stack(case, data_path, plane)\n",
    "    return x\n",
    "\n",
    "def load_cases(train=False, n=None):\n",
    "    assert (type(n) == int) and (n < 1250)\n",
    "    if train:\n",
    "        case_list = pd.read_csv(path + 'train-acl.csv', names=['case', 'label'], header=None,\n",
    "                               dtype={'case': str, 'label': np.int64})['case'].tolist()        \n",
    "    else:\n",
    "        case_list = pd.read_csv(path + 'valid-acl.csv', names=['case', 'label'], header=None,\n",
    "                               dtype={'case': str, 'label': np.int64})['case'].tolist()        \n",
    "    cases = {}\n",
    "    atts = {}\n",
    "    \n",
    "    if n is not None:\n",
    "        case_list = case_list[:n]\n",
    "        \n",
    "    for case in notebook.tqdm(case_list, leave=False):\n",
    "        x = load_stacks(case, valid_path)\n",
    "        att = load_att_stacks(case, valid_path)\n",
    "        cases[case] = x\n",
    "        if att is None:\n",
    "            atts[case] = np.zeros(x.shape)\n",
    "        else:\n",
    "            atts[case] = att\n",
    "    return cases, atts\n",
    "\n",
    "cases, atts = load_cases(n=120)"
   ]
  },
  {
   "cell_type": "code",
   "execution_count": 7,
   "id": "eab1c5ea",
   "metadata": {},
   "outputs": [],
   "source": [
    "case = '1130'\n",
    "attention = True"
   ]
  },
  {
   "cell_type": "code",
   "execution_count": 8,
   "id": "3e889ad9",
   "metadata": {},
   "outputs": [],
   "source": [
    "slice_nums = {}\n",
    "for case in cases:\n",
    "    slice_nums[case] = {}\n",
    "    for plane in ['coronal', 'sagittal', 'axial']:\n",
    "        slice_nums[case][plane] = cases[case][plane].shape[0]"
   ]
  },
  {
   "cell_type": "code",
   "execution_count": 9,
   "id": "2a16dfb1",
   "metadata": {},
   "outputs": [
    {
     "ename": "SyntaxError",
     "evalue": "invalid syntax (2392980172.py, line 43)",
     "output_type": "error",
     "traceback": [
      "\u001b[0;36m  File \u001b[0;32m\"/tmp/ipykernel_9786/2392980172.py\"\u001b[0;36m, line \u001b[0;32m43\u001b[0m\n\u001b[0;31m    html.Div(html.Img(id='image', style={'width': '80%', 'padding': '0px 0px 0px 0px'})),\u001b[0m\n\u001b[0m       ^\u001b[0m\n\u001b[0;31mSyntaxError\u001b[0m\u001b[0;31m:\u001b[0m invalid syntax\n"
     ]
    }
   ],
   "source": [
    "external_stylesheets = ['https://codepen.io/chriddyp/pen/bWLwgP.css']\n",
    "app = JupyterDash(__name__, external_stylesheets=external_stylesheets)\n",
    "\n",
    "app = JupyterDash(__name__, external_stylesheets=external_stylesheets)\n",
    "\n",
    "app.layout = html.Div(children=[\n",
    "    html.Div([\n",
    "        html.P(children='Coronal'),\n",
    "        dcc.Slider(\n",
    "            id='coronal',\n",
    "            min=0,\n",
    "            max=slice_nums[case]['coronal'] - 1,\n",
    "            step=1,\n",
    "            value=round((slice_nums[case]['coronal'] - 1) / 2, 0),\n",
    "    )], style={'width': '40%', 'padding': '0px 0px 0px 0px'}),\n",
    "    \n",
    "    html.Div([\n",
    "        html.P(children='Sagittal'),\n",
    "        dcc.Slider(\n",
    "            id='sagittal',\n",
    "            min=0,\n",
    "            max=slice_nums[case]['sagittal'] - 1,\n",
    "            step=1,\n",
    "            value=round((slice_nums[case]['sagittal'] - 1) / 2, 0),\n",
    "    )], style={'width': '40%', 'padding': '0px 0px 0px 0px'}),\n",
    "    \n",
    "    html.Div([\n",
    "        html.P(children='Axial'),\n",
    "        dcc.Slider(\n",
    "            id='axial',\n",
    "            min=0,\n",
    "            max=slice_nums[case]['axial'] - 1,\n",
    "            step=1,\n",
    "            value=round((slice_nums[case]['axial'] - 1) / 2, 0),\n",
    "    )], style={'width': '40%', 'padding': '0px 0px 0px 0px'}),\n",
    "    html.Div(html.Img(id='image', style={'width': '80%', 'padding': '0px 0px 0px 0px'})),\n",
    "    html.Div([\n",
    "    daq.ToggleSwitch(\n",
    "        id='my-toggle-switch',\n",
    "        value=False\n",
    "    ),])\n",
    "\n",
    "    html.Div(html.Img(id='image', style={'width': '80%', 'padding': '0px 0px 0px 0px'})),\n",
    "])\n",
    "@app.callback(\n",
    "    dash.dependencies.Output('image', 'src'), # src attribute\n",
    "    [dash.dependencies.Input('coronal', 'value'),\n",
    "    dash.dependencies.Input('sagittal', 'value'),\n",
    "    dash.dependencies.Input('axial', 'value'),\n",
    "    dash.dependencies.Input('my-toggle-switch', 'value')]\n",
    ")\n",
    "\n",
    "\n",
    "def update_figures(coronal, sagittal, axial, toggle):\n",
    "    \n",
    "    buf = io.BytesIO()\n",
    "    fig, (ax1, ax2, ax3) = plt.subplots(1, 3, figsize=(15,5))\n",
    "    ax1.imshow(cases[case]['coronal'][coronal, :, :], 'gray')\n",
    "    if toggle:\n",
    "        ax1.imshow(cv2.resize(atts[case]['coronal'][coronal, :, :], (256, 256), interpolation=cv2.INTER_CUBIC), cmap=plt.cm.viridis, alpha=.5)\n",
    "    ax1.set_title(f'MRI slice {coronal} on coronal plane')\n",
    "    ax2.imshow(cases[case]['sagittal'][sagittal, :, :], 'gray')\n",
    "    if toggle:\n",
    "        ax2.imshow(cv2.resize(atts[case]['sagittal'][sagittal, :, :], (256, 256), interpolation=cv2.INTER_CUBIC), cmap=plt.cm.viridis, alpha=.5)\n",
    "    ax2.set_title(f'MRI slice {sagittal} on sagittal plane')\n",
    "    ax3.imshow(cases[case]['axial'][axial, :, :], 'gray')\n",
    "    if toggle:\n",
    "    dash.dependencies.Input('axial', 'value')]\n",
    ")\n",
    "def update_figures(coronal, sagittal, axial):\n",
    "\n",
    "    buf = io.BytesIO() \n",
    "    \n",
    "    fig, (ax1, ax2, ax3) = plt.subplots(1, 3, figsize=(15,5))\n",
    "\n",
    "    ax1.imshow(cases[case]['coronal'][coronal, :, :], 'gray')\n",
    "    if attention:\n",
    "        ax1.imshow(cv2.resize(atts[case]['coronal'][coronal, :, :], (256, 256), interpolation=cv2.INTER_CUBIC), cmap=plt.cm.viridis, alpha=.5)\n",
    "    ax1.set_title(f'MRI slice {coronal} on coronal plane')\n",
    "\n",
    "    ax2.imshow(cases[case]['sagittal'][sagittal, :, :], 'gray')\n",
    "    if attention:\n",
    "        ax2.imshow(cv2.resize(atts[case]['sagittal'][sagittal, :, :], (256, 256), interpolation=cv2.INTER_CUBIC), cmap=plt.cm.viridis, alpha=.5)\n",
    "    ax2.set_title(f'MRI slice {sagittal} on sagittal plane')\n",
    "\n",
    "    ax3.imshow(cases[case]['axial'][axial, :, :], 'gray')\n",
    "    if attention:\n",
    "        ax3.imshow(cv2.resize(atts[case]['axial'][axial, :, :], (256, 256), interpolation=cv2.INTER_CUBIC), cmap=plt.cm.viridis, alpha=.5)\n",
    "    ax3.set_title(f'MRI slice {axial} on axial plane')\n",
    "    plt.savefig(buf, format = \"png\") # save to the above file object\n",
    "    plt.close()\n",
    "    data = base64.b64encode(buf.getbuffer()).decode(\"utf8\") # encode to html elements\n",
    "    return \"data:image/png;base64,{}\".format(data)\n",
    "\n",
    "\n"
   ]
  },
  {
   "cell_type": "code",
   "execution_count": 7,
   "id": "7f90ca4b",
   "metadata": {},
   "outputs": [
    {
     "name": "stdout",
     "output_type": "stream",
     "text": [
      "Dash app running on http://127.0.0.1:8050/\n"
     ]
    }
   ],
   "source": [
    "app.run_server()\n",
    "app.run_server(port=8050)"
   ]
  },
  {
   "cell_type": "code",
   "execution_count": null,
   "id": "0e3dced2",
   "metadata": {},
   "outputs": [],
   "source": []
  },
  {
   "cell_type": "code",
   "execution_count": null,
   "id": "af33b56d",
   "metadata": {},
   "outputs": [],
   "source": []
  },
  {
   "cell_type": "code",
   "execution_count": null,
   "id": "b9023d90",
   "metadata": {},
   "outputs": [],
   "source": []
  }
 ],
 "metadata": {
  "kernelspec": {
   "display_name": "Python 3 (ipykernel)",
   "language": "python",
   "name": "python3"
  },
  "language_info": {
   "codemirror_mode": {
    "name": "ipython",
    "version": 3
   },
   "file_extension": ".py",
   "mimetype": "text/x-python",
   "name": "python",
   "nbconvert_exporter": "python",
   "pygments_lexer": "ipython3",
   "version": "3.7.13"
  }
 },
 "nbformat": 4,
 "nbformat_minor": 5
}
